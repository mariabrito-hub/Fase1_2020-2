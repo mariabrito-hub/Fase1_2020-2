{
 "cells": [
  {
   "cell_type": "markdown",
   "metadata": {},
   "source": [
    "# Maria Luisa Monteiro Seixo de Brito\n",
    "## maludebrito@gmail.com\n"
   ]
  },
  {
   "cell_type": "markdown",
   "metadata": {},
   "source": [
    "# marialmsb@al.insper.edu.br"
   ]
  },
  {
   "cell_type": "markdown",
   "metadata": {},
   "source": [
    "* Leia o arquivo \"desafio.csv\" na pasta data\n",
    "* Obtenha as variáveis X e y no dataset\n",
    "* Inicialize (e deixe bem claro onde fez isso) os parâmetros de seu modelo:\n",
    "    * Learning rate;\n",
    "    * Número de iterações;\n",
    "    * Número de amostras;\n",
    "    * $\\theta_0$ e $\\theta_1$ iniciais, gerados aleatoriamente.\n",
    "* Desenvolva a função que calcula EQM\n",
    "* Desenvolva uma (ou duas) funções que devolva a derivada parcial de EQM para cada um dos $\\theta$\n",
    "* Desenvolva a função que itera $\\theta_0$ e $\\theta_1$ e devolva os valores finais\n",
    "* Plote um gráfico contendo:\n",
    "* Os valores reais de X e y\n",
    "* A reta formada pelos valores de $\\theta$ encontrados por você"
   ]
  },
  {
   "cell_type": "code",
   "execution_count": 4,
   "metadata": {},
   "outputs": [
    {
     "name": "stdout",
     "output_type": "stream",
     "text": [
      "   Unnamed: 0         X         y\n",
      "0           0  1.941499 -2.867797\n",
      "1           1  3.033204 -0.793799\n",
      "2           2  3.541302  0.679486\n",
      "3           3  2.486183 -3.625006\n",
      "4           4  3.739032 -0.607250\n"
     ]
    },
    {
     "data": {
      "text/plain": [
       "pandas.core.frame.DataFrame"
      ]
     },
     "execution_count": 4,
     "metadata": {},
     "output_type": "execute_result"
    }
   ],
   "source": [
    "# Primeiramente, é necessário importar a base de dados\n",
    "import pandas as pd\n",
    "df = pd.read_table(\".\\desafio.csv\", delimiter =\",\")\n",
    "print(df.head())\n",
    "type(df)"
   ]
  },
  {
   "cell_type": "code",
   "execution_count": 5,
   "metadata": {},
   "outputs": [
    {
     "name": "stdout",
     "output_type": "stream",
     "text": [
      "   contagem         x         y\n",
      "0         0  1.941499 -2.867797\n",
      "1         1  3.033204 -0.793799\n",
      "2         2  3.541302  0.679486\n"
     ]
    }
   ],
   "source": [
    "# Aqui fiz uma pequna limpeza e organizei os dados de acordo com nomes que para mim são mais intuitivos\n",
    "df=df.rename(columns={\"Unnamed: 0\": \"contagem\", \"X\": \"x\",\"y\":\"y\"})\n",
    "print(df.head(3))\n",
    "del df[\"contagem\"]\n"
   ]
  },
  {
   "cell_type": "code",
   "execution_count": 6,
   "metadata": {},
   "outputs": [
    {
     "name": "stdout",
     "output_type": "stream",
     "text": [
      "          x         y\n",
      "0  1.941499 -2.867797\n",
      "1  3.033204 -0.793799\n",
      "2  3.541302  0.679486\n",
      "3  2.486183 -3.625006\n",
      "4  3.739032 -0.607250\n",
      "5  1.645022 -4.843508\n",
      "6  1.054859 -3.944305\n",
      "7  2.556042 -0.332324\n",
      "8  2.146848 -0.207326\n",
      "9  3.036577 -0.713097\n"
     ]
    },
    {
     "data": {
      "text/html": [
       "<div>\n",
       "<style scoped>\n",
       "    .dataframe tbody tr th:only-of-type {\n",
       "        vertical-align: middle;\n",
       "    }\n",
       "\n",
       "    .dataframe tbody tr th {\n",
       "        vertical-align: top;\n",
       "    }\n",
       "\n",
       "    .dataframe thead th {\n",
       "        text-align: right;\n",
       "    }\n",
       "</style>\n",
       "<table border=\"1\" class=\"dataframe\">\n",
       "  <thead>\n",
       "    <tr style=\"text-align: right;\">\n",
       "      <th></th>\n",
       "      <th>x</th>\n",
       "      <th>y</th>\n",
       "    </tr>\n",
       "  </thead>\n",
       "  <tbody>\n",
       "    <tr>\n",
       "      <th>count</th>\n",
       "      <td>100.000000</td>\n",
       "      <td>100.000000</td>\n",
       "    </tr>\n",
       "    <tr>\n",
       "      <th>mean</th>\n",
       "      <td>2.573279</td>\n",
       "      <td>-1.899961</td>\n",
       "    </tr>\n",
       "    <tr>\n",
       "      <th>std</th>\n",
       "      <td>1.412399</td>\n",
       "      <td>3.075679</td>\n",
       "    </tr>\n",
       "    <tr>\n",
       "      <th>min</th>\n",
       "      <td>0.032438</td>\n",
       "      <td>-8.313625</td>\n",
       "    </tr>\n",
       "    <tr>\n",
       "      <th>25%</th>\n",
       "      <td>1.398731</td>\n",
       "      <td>-4.173605</td>\n",
       "    </tr>\n",
       "    <tr>\n",
       "      <th>50%</th>\n",
       "      <td>2.786098</td>\n",
       "      <td>-1.505000</td>\n",
       "    </tr>\n",
       "    <tr>\n",
       "      <th>75%</th>\n",
       "      <td>3.688278</td>\n",
       "      <td>0.573354</td>\n",
       "    </tr>\n",
       "    <tr>\n",
       "      <th>max</th>\n",
       "      <td>4.988527</td>\n",
       "      <td>4.236273</td>\n",
       "    </tr>\n",
       "  </tbody>\n",
       "</table>\n",
       "</div>"
      ],
      "text/plain": [
       "                x           y\n",
       "count  100.000000  100.000000\n",
       "mean     2.573279   -1.899961\n",
       "std      1.412399    3.075679\n",
       "min      0.032438   -8.313625\n",
       "25%      1.398731   -4.173605\n",
       "50%      2.786098   -1.505000\n",
       "75%      3.688278    0.573354\n",
       "max      4.988527    4.236273"
      ]
     },
     "execution_count": 6,
     "metadata": {},
     "output_type": "execute_result"
    }
   ],
   "source": [
    "print(df.head(10))\n",
    "df.describe()"
   ]
  },
  {
   "cell_type": "markdown",
   "metadata": {},
   "source": [
    "#### Definição dos arrays:"
   ]
  },
  {
   "cell_type": "code",
   "execution_count": 7,
   "metadata": {},
   "outputs": [
    {
     "name": "stdout",
     "output_type": "stream",
     "text": [
      "0     1.941499\n",
      "1     3.033204\n",
      "2     3.541302\n",
      "3     2.486183\n",
      "4     3.739032\n",
      "        ...   \n",
      "95    0.769992\n",
      "96    0.608491\n",
      "97    4.504056\n",
      "98    3.639574\n",
      "99    2.084952\n",
      "Name: x, Length: 100, dtype: float64\n",
      "0    -2.867797\n",
      "1    -0.793799\n",
      "2     0.679486\n",
      "3    -3.625006\n",
      "4    -0.607250\n",
      "        ...   \n",
      "95   -6.145741\n",
      "96   -6.347823\n",
      "97    3.440869\n",
      "98    0.893604\n",
      "99   -0.475449\n",
      "Name: y, Length: 100, dtype: float64\n"
     ]
    }
   ],
   "source": [
    "# Definição dos datasets:\n",
    "x = df.iloc[:, 0]\n",
    "print(x)\n",
    "y = df.iloc[:, 1]\n",
    "print(y)"
   ]
  },
  {
   "cell_type": "markdown",
   "metadata": {},
   "source": [
    "### Aqui começa a etapa da regressão linear"
   ]
  },
  {
   "cell_type": "code",
   "execution_count": 8,
   "metadata": {},
   "outputs": [
    {
     "name": "stdout",
     "output_type": "stream",
     "text": [
      "100\n"
     ]
    },
    {
     "data": {
      "text/plain": [
       "x    0\n",
       "y    0\n",
       "dtype: int64"
      ]
     },
     "execution_count": 8,
     "metadata": {},
     "output_type": "execute_result"
    }
   ],
   "source": [
    "print(len(df)) \n",
    "# Inicialmente, é importante notar que temos 100 dados\n",
    "df.isnull().sum()\n",
    "# Sendo que não há nem um missing e, logo, que temos o mesmo número de dados tanto pra x quanto pra y"
   ]
  },
  {
   "cell_type": "code",
   "execution_count": 428,
   "metadata": {},
   "outputs": [],
   "source": [
    "# Além disso, plotar um gráfico é importante para ver como x e y se relacionam e, logo, para definir como trabalhar com essas variáveis\n"
   ]
  },
  {
   "cell_type": "code",
   "execution_count": 10,
   "metadata": {},
   "outputs": [
    {
     "data": {
      "text/plain": [
       "<matplotlib.axes._subplots.AxesSubplot at 0x17c21843b88>"
      ]
     },
     "execution_count": 10,
     "metadata": {},
     "output_type": "execute_result"
    },
    {
     "data": {
      "image/png": "[encoded data removed]",
      "text/plain": [
       "<Figure size 864x864 with 1 Axes>"
      ]
     },
     "metadata": {
      "needs_background": "light"
     },
     "output_type": "display_data"
    }
   ],
   "source": [
    "df.plot.scatter(x='x',y='y',color=\"black\",figsize=(12,12),title=\"Relação entre x e y\")\n",
    "# A partir do gráfico acima fica claro a relação linear entre x e y"
   ]
  },
  {
   "cell_type": "markdown",
   "metadata": {},
   "source": [
    "##### A partir do gráfico acima, decidi definir:\n",
    "* X como a variável independente\n",
    "* Y como a variável dependente"
   ]
  },
  {
   "cell_type": "markdown",
   "metadata": {},
   "source": [
    "##### Apenas relembrando que o objetivo a partir da definição dessas variáveis é encontrar a reta a seguir:\n",
    "$ Y = \\theta_1  X + \\theta_0 $"
   ]
  },
  {
   "cell_type": "markdown",
   "metadata": {},
   "source": [
    "##### Vou definir meu Learning Rate como sendo igual a 0.001 \n"
   ]
  },
  {
   "cell_type": "code",
   "execution_count": 55,
   "metadata": {},
   "outputs": [],
   "source": [
    "l=0.0001 # learning rate"
   ]
  },
  {
   "cell_type": "markdown",
   "metadata": {},
   "source": [
    "##### Agora, vou definir o número de iterações:"
   ]
  },
  {
   "cell_type": "code",
   "execution_count": 56,
   "metadata": {},
   "outputs": [],
   "source": [
    "iterações = 1000"
   ]
  },
  {
   "cell_type": "markdown",
   "metadata": {},
   "source": [
    "##### Geração aleatória do $\\theta_1$ e $\\theta_0$:"
   ]
  },
  {
   "cell_type": "code",
   "execution_count": 57,
   "metadata": {},
   "outputs": [
    {
     "name": "stdout",
     "output_type": "stream",
     "text": [
      "2.861390628236701\n",
      "-9.22320045294548\n"
     ]
    }
   ],
   "source": [
    "import random\n",
    "random.seed(5749)\n",
    "slope=random.uniform(1,3.5) # Defini o intervalo entre 0.5 e 5, pois a partir do gráfico não achei que fosse necessário considerar um \"slope\" negativo. Além disso, definindo um intervalo menor tenho mais chances de chegar em um resultado melhor. Finalmente, nota-se uma forte inclinação no gráfico.\n",
    "print(slope)\n",
    "intercepto=random.uniform(-9.5,-6) # Também partindo do gráfico vi que o ponto de intercepto seria negativo. Além disso, ele parece estar próximo de -8, mas com medo de perder algum ponto decidi optar por colocar o intervalo entre -9.5 e -6\n",
    "print(intercepto)"
   ]
  },
  {
   "cell_type": "markdown",
   "metadata": {},
   "source": [
    "##### Número de amostras:"
   ]
  },
  {
   "cell_type": "code",
   "execution_count": 58,
   "metadata": {},
   "outputs": [
    {
     "data": {
      "text/html": [
       "<div>\n",
       "<style scoped>\n",
       "    .dataframe tbody tr th:only-of-type {\n",
       "        vertical-align: middle;\n",
       "    }\n",
       "\n",
       "    .dataframe tbody tr th {\n",
       "        vertical-align: top;\n",
       "    }\n",
       "\n",
       "    .dataframe thead th {\n",
       "        text-align: right;\n",
       "    }\n",
       "</style>\n",
       "<table border=\"1\" class=\"dataframe\">\n",
       "  <thead>\n",
       "    <tr style=\"text-align: right;\">\n",
       "      <th></th>\n",
       "      <th>x</th>\n",
       "      <th>y</th>\n",
       "    </tr>\n",
       "  </thead>\n",
       "  <tbody>\n",
       "    <tr>\n",
       "      <th>count</th>\n",
       "      <td>100.000000</td>\n",
       "      <td>100.000000</td>\n",
       "    </tr>\n",
       "    <tr>\n",
       "      <th>mean</th>\n",
       "      <td>2.573279</td>\n",
       "      <td>-1.899961</td>\n",
       "    </tr>\n",
       "    <tr>\n",
       "      <th>std</th>\n",
       "      <td>1.412399</td>\n",
       "      <td>3.075679</td>\n",
       "    </tr>\n",
       "    <tr>\n",
       "      <th>min</th>\n",
       "      <td>0.032438</td>\n",
       "      <td>-8.313625</td>\n",
       "    </tr>\n",
       "    <tr>\n",
       "      <th>25%</th>\n",
       "      <td>1.398731</td>\n",
       "      <td>-4.173605</td>\n",
       "    </tr>\n",
       "    <tr>\n",
       "      <th>50%</th>\n",
       "      <td>2.786098</td>\n",
       "      <td>-1.505000</td>\n",
       "    </tr>\n",
       "    <tr>\n",
       "      <th>75%</th>\n",
       "      <td>3.688278</td>\n",
       "      <td>0.573354</td>\n",
       "    </tr>\n",
       "    <tr>\n",
       "      <th>max</th>\n",
       "      <td>4.988527</td>\n",
       "      <td>4.236273</td>\n",
       "    </tr>\n",
       "  </tbody>\n",
       "</table>\n",
       "</div>"
      ],
      "text/plain": [
       "                x           y\n",
       "count  100.000000  100.000000\n",
       "mean     2.573279   -1.899961\n",
       "std      1.412399    3.075679\n",
       "min      0.032438   -8.313625\n",
       "25%      1.398731   -4.173605\n",
       "50%      2.786098   -1.505000\n",
       "75%      3.688278    0.573354\n",
       "max      4.988527    4.236273"
      ]
     },
     "execution_count": 58,
     "metadata": {},
     "output_type": "execute_result"
    }
   ],
   "source": [
    "df.describe() # Como já tinha sido previamente confirmado temos 100 amostras de x e y"
   ]
  },
  {
   "cell_type": "markdown",
   "metadata": {},
   "source": [
    "### Cálculo do EQM: $ EQM= \\frac{1}{m}\\sum_{i=1}^{m}(\\theta_1 x_i +\\theta_0 - y_i)^2 $, lembrando que m=100"
   ]
  },
  {
   "cell_type": "code",
   "execution_count": 59,
   "metadata": {},
   "outputs": [
    {
     "name": "stdout",
     "output_type": "stream",
     "text": [
      "2.325673296696933\n"
     ]
    }
   ],
   "source": [
    "def calcula_eqm(slope,intercepto,x,y):\n",
    "    y_predict = slope * x + intercepto\n",
    "    eqm=(1/len(y))*sum((y_predict-y)**2)\n",
    "    print(eqm)\n",
    "\n",
    "calcula_eqm(slope,intercepto,x,y)        "
   ]
  },
  {
   "cell_type": "markdown",
   "metadata": {},
   "source": [
    "##### Derivada parcial da inclinação da curva (\"slope\"): $D_m = \\frac{-2}{m} \\sum_{i=1}^{m} x_i(y_i -\\overline{y_i})$\n",
    "##### Derivada parcial do intercepto: $D_c = \\frac{-2}{m} \\sum_{i=1}^{m}(y_i-\\overline{y_i})$\n"
   ]
  },
  {
   "cell_type": "code",
   "execution_count": 60,
   "metadata": {},
   "outputs": [
    {
     "name": "stdout",
     "output_type": "stream",
     "text": [
      "-3.3957325695935725\n",
      "-0.07983577639711359\n"
     ]
    }
   ],
   "source": [
    "def derivada_slope(slope,intercepto,x,y):\n",
    "        y_predict = slope * x + intercepto\n",
    "        derivada_slope= (-2/len(y))* sum(x * (y_predict-y))\n",
    "        derivada_slope\n",
    "        print(derivada_slope)\n",
    "\n",
    "def derivada_intercepto(slope,intercepto,x,y):\n",
    "    y_predict = slope * x + intercepto\n",
    "    derivada_intercepto=(-2/len(y)) * sum(y_predict-y)\n",
    "    print(derivada_intercepto)\n",
    "\n",
    "derivada_slope(slope,intercepto,x,y)\n",
    "derivada_intercepto(slope,intercepto,x,y)\n",
    "a=-3.3957325695935725 #Por algum motivo meu código estava dando Nonetype quando eu tentava usar a função que criei para fazer alguma conta, a fim de continuar o projeto fiz esse ctrl+c e ctrl+v, visto que não fui capaz de achar solução melhor \n",
    "b=-0.07983577639711359"
   ]
  },
  {
   "cell_type": "markdown",
   "metadata": {},
   "source": [
    "##### Processo de iteração: $\\theta_{i+1}=\\theta_i-\\mu \\frac{\\partial}{\\partial(\\theta)}EQM$ "
   ]
  },
  {
   "cell_type": "code",
   "execution_count": 61,
   "metadata": {},
   "outputs": [
    {
     "name": "stdout",
     "output_type": "stream",
     "text": [
      "2.8617302014936605\n"
     ]
    }
   ],
   "source": [
    "for i in range(iterações):\n",
    "    slope = slope - l*a #update derivada da inclinação\n",
    "    if slope <3:\n",
    "        break\n",
    "    elif slope>3.5:\n",
    "        break\n",
    "    else:\n",
    "        continue\n",
    "    \n",
    "print(slope)"
   ]
  },
  {
   "cell_type": "code",
   "execution_count": 62,
   "metadata": {},
   "outputs": [
    {
     "name": "stdout",
     "output_type": "stream",
     "text": [
      "-9.222860879688522\n"
     ]
    }
   ],
   "source": [
    "for i in range(iterações):\n",
    "    intercepto = intercepto - l*a #update derivada da inclinação\n",
    "    if intercepto<-9:\n",
    "        break\n",
    "    else:\n",
    "        continue\n",
    "    \n",
    "print(intercepto)"
   ]
  },
  {
   "cell_type": "code",
   "execution_count": 63,
   "metadata": {},
   "outputs": [
    {
     "data": {
      "image/png": "[encoded data removed]",
      "text/plain": [
       "<Figure size 432x288 with 1 Axes>"
      ]
     },
     "metadata": {
      "needs_background": "light"
     },
     "output_type": "display_data"
    }
   ],
   "source": [
    "import numpy as np\n",
    "import matplotlib.pyplot as plt\n",
    "import pandas as pd\n",
    "\n",
    "predição = slope*x + intercepto\n",
    "\n",
    "plt.scatter(x, y)\n",
    "plt.plot([min(x), max(x)], [min(predição), max(predição)], color='red') # predicted\n",
    "plt.show()"
   ]
  },
  {
   "cell_type": "markdown",
   "metadata": {},
   "source": [
    "### Sendo importante lembrar que $\\theta_1=2.86$ e $\\theta_0=-9.22$"
   ]
  }
 ],
 "metadata": {
  "kernelspec": {
   "display_name": "Python 3",
   "language": "python",
   "name": "python3"
  },
  "language_info": {
   "codemirror_mode": {
    "name": "ipython",
    "version": 3
   },
   "file_extension": ".py",
   "mimetype": "text/x-python",
   "name": "python",
   "nbconvert_exporter": "python",
   "pygments_lexer": "ipython3",
   "version": "3.7.4"
  }
 },
 "nbformat": 4,
 "nbformat_minor": 4
}
